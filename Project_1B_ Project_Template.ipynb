{
 "cells": [
  {
   "cell_type": "markdown",
   "metadata": {},
   "source": [
    "# Part I. ETL Pipeline for Pre-Processing the Files"
   ]
  },
  {
   "cell_type": "markdown",
   "metadata": {},
   "source": [
    "#### Import Python packages "
   ]
  },
  {
   "cell_type": "code",
   "execution_count": 1,
   "metadata": {},
   "outputs": [],
   "source": [
    "# Import Python packages \n",
    "import pandas as pd\n",
    "import cassandra\n",
    "import re\n",
    "import os\n",
    "import glob\n",
    "import numpy as np\n",
    "import json\n",
    "import csv"
   ]
  },
  {
   "cell_type": "markdown",
   "metadata": {},
   "source": [
    "#### Creating list of filepaths to process original event csv data files"
   ]
  },
  {
   "cell_type": "code",
   "execution_count": 2,
   "metadata": {},
   "outputs": [
    {
     "name": "stdout",
     "output_type": "stream",
     "text": [
      "/home/workspace\n"
     ]
    }
   ],
   "source": [
    "# checking your current working directory\n",
    "print(os.getcwd())\n",
    "\n",
    "# Get your current folder and subfolder event data\n",
    "filepath = os.getcwd() + '/event_data'\n",
    "\n",
    "# Create a for loop to create a list of files and collect each filepath\n",
    "for root, dirs, files in os.walk(filepath):\n",
    "    \n",
    "# join the file path and roots with the subdirectories using glob\n",
    "    file_path_list = glob.glob(os.path.join(root,'*'))\n",
    "    #print(file_path_list)"
   ]
  },
  {
   "cell_type": "markdown",
   "metadata": {},
   "source": [
    "#### Processing the files to create the data file csv that will be used for Apache Casssandra tables"
   ]
  },
  {
   "cell_type": "code",
   "execution_count": 3,
   "metadata": {},
   "outputs": [],
   "source": [
    "# initiating an empty list of rows that will be generated from each file\n",
    "full_data_rows_list = [] \n",
    "    \n",
    "# for every filepath in the file path list \n",
    "for f in file_path_list:\n",
    "\n",
    "# reading csv file \n",
    "    with open(f, 'r', encoding = 'utf8', newline='') as csvfile: \n",
    "        # creating a csv reader object \n",
    "        csvreader = csv.reader(csvfile) \n",
    "        next(csvreader)\n",
    "        \n",
    " # extracting each data row one by one and append it        \n",
    "        for line in csvreader:\n",
    "            #print(line)\n",
    "            full_data_rows_list.append(line) \n",
    "            \n",
    "# uncomment the code below if you would like to get total number of rows \n",
    "#print(len(full_data_rows_list))\n",
    "# uncomment the code below if you would like to check to see what the list of event data rows will look like\n",
    "#print(full_data_rows_list)\n",
    "\n",
    "# creating a smaller event data csv file called event_datafile_full csv that will be used to insert data into the \\\n",
    "# Apache Cassandra tables\n",
    "csv.register_dialect('myDialect', quoting=csv.QUOTE_ALL, skipinitialspace=True)\n",
    "\n",
    "with open('event_datafile_new.csv', 'w', encoding = 'utf8', newline='') as f:\n",
    "    writer = csv.writer(f, dialect='myDialect')\n",
    "    writer.writerow(['artist','firstName','gender','itemInSession','lastName','length',\\\n",
    "                'level','location','sessionId','song','userId'])\n",
    "    for row in full_data_rows_list:\n",
    "        if (row[0] == ''):\n",
    "            continue\n",
    "        writer.writerow((row[0], row[2], row[3], row[4], row[5], row[6], row[7], row[8], row[12], row[13], row[16]))\n"
   ]
  },
  {
   "cell_type": "code",
   "execution_count": 4,
   "metadata": {},
   "outputs": [
    {
     "name": "stdout",
     "output_type": "stream",
     "text": [
      "6821\n"
     ]
    }
   ],
   "source": [
    "# check the number of rows in your csv file\n",
    "with open('event_datafile_new.csv', 'r', encoding = 'utf8') as f:\n",
    "    print(sum(1 for line in f))"
   ]
  },
  {
   "cell_type": "markdown",
   "metadata": {},
   "source": [
    "# Part II. Insert consolidated csv file to Apache Casssandra database\n",
    "\n",
    "## Now you are ready to work with the CSV file titled <font color=red>event_datafile_new.csv</font>, located within the Workspace directory.  The event_datafile_new.csv contains the following columns: \n",
    "- artist \n",
    "- firstName of user\n",
    "- gender of user\n",
    "- item number in session\n",
    "- last name of user\n",
    "- length of the song\n",
    "- level (paid or free song)\n",
    "- location of the user\n",
    "- sessionId\n",
    "- song title\n",
    "- userId\n",
    "\n",
    "The image below is a screenshot of what the denormalized data should appear like in the <font color=red>**event_datafile_new.csv**</font> after the code above is run:<br>\n",
    "\n",
    "<img src=\"images/image_event_datafile_new.jpg\">"
   ]
  },
  {
   "cell_type": "markdown",
   "metadata": {},
   "source": [
    "#### Creating a Cluster"
   ]
  },
  {
   "cell_type": "code",
   "execution_count": 5,
   "metadata": {},
   "outputs": [],
   "source": [
    "# This should make a connection to a Cassandra instance your local machine \n",
    "# (127.0.0.1)\n",
    "\n",
    "from cassandra.cluster import Cluster\n",
    "cluster = Cluster(['127.0.0.1'])\n",
    "\n",
    "# To establish connection and begin executing queries, need a session\n",
    "session = cluster.connect()"
   ]
  },
  {
   "cell_type": "markdown",
   "metadata": {},
   "source": [
    "#### Create Keyspace"
   ]
  },
  {
   "cell_type": "code",
   "execution_count": 6,
   "metadata": {},
   "outputs": [],
   "source": [
    "# Create a Keyspace \n",
    "try:\n",
    "    session.execute(\"\"\"\n",
    "    CREATE KEYSPACE IF NOT EXISTS cassandra \n",
    "    WITH REPLICATION = \n",
    "    { 'class' : 'SimpleStrategy', 'replication_factor' : 1 }\"\"\"\n",
    ")\n",
    "\n",
    "except Exception as e:\n",
    "    print(e)"
   ]
  },
  {
   "cell_type": "markdown",
   "metadata": {},
   "source": [
    "#### Set Keyspace"
   ]
  },
  {
   "cell_type": "code",
   "execution_count": 7,
   "metadata": {},
   "outputs": [],
   "source": [
    "# Set KEYSPACE to the keyspace specified above\n",
    "try:\n",
    "    session.set_keyspace('cassandra')\n",
    "except Exception as e:\n",
    "    print(e)"
   ]
  },
  {
   "cell_type": "markdown",
   "metadata": {},
   "source": [
    "## Create queries to ask the following three questions of the data\n",
    "\n",
    "### 1. Give me the artist, song title and song's length in the music app history that was heard during  sessionId = 338, and itemInSession  = 4\n",
    "\n",
    "\n",
    "### 2. Give me only the following: name of artist, song (sorted by itemInSession) and user (first and last name) for userid = 10, sessionid = 182\n",
    "    \n",
    "\n",
    "### 3. Give me every user name (first and last) in my music app history who listened to the song 'All Hands Against His Own'\n",
    "\n",
    "\n"
   ]
  },
  {
   "cell_type": "markdown",
   "metadata": {},
   "source": [
    "#### Based on the three questions above, I need to create three tables. I will setup sessionid and iteminsession as primary key in first table, userid, sessionid and iteminsession as primary key in the second table, and song, artist, userid and seesionid as primary key is the third table."
   ]
  },
  {
   "cell_type": "code",
   "execution_count": 8,
   "metadata": {},
   "outputs": [],
   "source": [
    "# Drop three tables if exists to avoild throwing out errors\n",
    "song_info_session_drop = \"DROP TABLE IF EXISTS song_info_session\"\n",
    "song_playlist_session_drop = \"DROP TABLE IF EXISTS song_playlist_session\"\n",
    "user_info_songname_drop = \"DROP TABLE IF EXISTS user_info_songname\"\n",
    "drop_table_queries = [song_info_session_drop, song_playlist_session_drop, user_info_songname_drop]\n",
    "\n",
    "for query in drop_table_queries:\n",
    "    session.execute(query)"
   ]
  },
  {
   "cell_type": "code",
   "execution_count": 9,
   "metadata": {},
   "outputs": [],
   "source": [
    "create_song_info_session = \"CREATE TABLE IF NOT EXISTS song_info_session \\\n",
    "                            (sessionid int, iteminsession int, artist text, firstname text, gender text, lastname text, \\\n",
    "                            length float, level text, location text, song text, userid int, \\\n",
    "                            PRIMARY KEY (sessionid, iteminsession))\"\n",
    "\n",
    "create_song_playlist_session = \"CREATE TABLE IF NOT EXISTS song_playlist_session (userid int, sessionid int, iteminsession int, \\\n",
    "                                artist text, firstname text, gender text, lastname text, length float, level text, \\\n",
    "                                location text, song text, PRIMARY KEY ((userid, sessionid), iteminsession))\"\n",
    "\n",
    "create_user_info_songname = \"CREATE TABLE IF NOT EXISTS user_info_songname (song text, userid int, artist text, \\\n",
    "                            firstname text, gender text, iteminsession int, lastname text, length float,\\\n",
    "                            level text, location text, sessionid int, PRIMARY KEY (song, userid))\"\n",
    "\n",
    "create_table_queries = [create_song_info_session, create_song_playlist_session, create_user_info_songname]\n",
    "\n",
    "try:\n",
    "    for query in create_table_queries:\n",
    "        session.execute(query)\n",
    "except Exception as e:\n",
    "    print(e)"
   ]
  },
  {
   "cell_type": "markdown",
   "metadata": {},
   "source": [
    "### Read consolidated csv file and insert into three tables and then create a consolidated csv file."
   ]
  },
  {
   "cell_type": "code",
   "execution_count": 15,
   "metadata": {
    "scrolled": false
   },
   "outputs": [],
   "source": [
    "file = 'event_datafile_new.csv'\n",
    "\n",
    "with open(file, encoding = 'utf8') as f:\n",
    "    csvreader = csv.reader(f)\n",
    "    next(csvreader) # skip header\n",
    "    table_list = [\"song_info_session\", \"song_playlist_session\", \"user_info_songname\"]\n",
    "    for line in csvreader:\n",
    "        for table in table_list:\n",
    "            if table == \"song_info_session\":\n",
    "                query = \"INSERT INTO \" + table + \"(sessionid, iteminsession, artist, firstname, gender, lastname, \\\n",
    "                    length, level, location, song, userid) VALUES (%s, %s, %s, %s, %s, %s, %s, %s, %s, %s, %s)\"\n",
    "\n",
    "                session.execute(query, (int(line[8]), int(line[3]), line[0], line[1], line[2], line[4], float(line[5]),\\\n",
    "                                        line[6], line[7], line[9], int(line[10])))\n",
    "            elif table == \"song_playlist_session\":\n",
    "                query = \"INSERT INTO \" + table + \"(userid, sessionid, iteminsession, artist, firstname, gender, lastname, \\\n",
    "                    length, level, location, song) VALUES (%s, %s, %s, %s, %s, %s, %s, %s, %s, %s, %s)\"\n",
    "\n",
    "                session.execute(query, (int(line[10]), int(line[8]), int(line[3]), line[0], line[1], line[2], line[4],\\\n",
    "                                            float(line[5]), line[6], line[7], line[9]))\n",
    "            else:\n",
    "                query = \"INSERT INTO \" + table + \"(song, userid, artist, firstname, gender, iteminsession, lastname, \\\n",
    "                    length, level, location, sessionid) VALUES (%s, %s, %s, %s, %s, %s, %s, %s, %s, %s, %s)\"\n",
    "\n",
    "                session.execute(query, (line[9], int(line[10]), line[0], line[1], line[2], int(line[3]), line[4], \\\n",
    "                                        float(line[5]), line[6], line[7], int(line[8])))\n",
    "                "
   ]
  },
  {
   "cell_type": "markdown",
   "metadata": {},
   "source": [
    "#### Now let's answer the first question."
   ]
  },
  {
   "cell_type": "code",
   "execution_count": 16,
   "metadata": {
    "scrolled": true
   },
   "outputs": [
    {
     "name": "stdout",
     "output_type": "stream",
     "text": [
      "Artist:  Faithless Song:  Music Matters (Mark Knight Dub) Length:  495.30731201171875\n"
     ]
    }
   ],
   "source": [
    "# Question 1: Give me the artist, song title and song's length in the music app history that was heard during  sessionId = 338, and itemInSession  = 4\n",
    "answer1_query = \"SELECT artist, song, length FROM song_info_session WHERE sessionid = 338 and iteminsession = 4\"\n",
    "try:\n",
    "    rows = session.execute(answer1_query)\n",
    "except Exception as e:\n",
    "    print(e)\n",
    "    \n",
    "for row in rows:\n",
    "    print (\"Artist: \", row.artist,\"Song: \", row.song,\"Length: \", row.length)"
   ]
  },
  {
   "cell_type": "markdown",
   "metadata": {},
   "source": [
    "#### Based on the result, only one result is returned.\n",
    "| Artust        | Song Title                      | Length             |\n",
    "| :------------ |:--------------------------------| :------------------|\n",
    "|Faithless      | Music Matters (Mark Knight Dub) | 495.30731201171875 |"
   ]
  },
  {
   "cell_type": "markdown",
   "metadata": {},
   "source": [
    "### Let's go to the second question."
   ]
  },
  {
   "cell_type": "code",
   "execution_count": 17,
   "metadata": {},
   "outputs": [
    {
     "name": "stdout",
     "output_type": "stream",
     "text": [
      "Artist:  Down To The Bone Song Title:  Keep On Keepin' On FN:  Sylvie LN:  Cruz\n",
      "Artist:  Three Drives Song Title:  Greece 2000 FN:  Sylvie LN:  Cruz\n",
      "Artist:  Sebastien Tellier Song Title:  Kilometer FN:  Sylvie LN:  Cruz\n",
      "Artist:  Lonnie Gordon Song Title:  Catch You Baby (Steve Pitron & Max Sanna Radio Edit) FN:  Sylvie LN:  Cruz\n"
     ]
    }
   ],
   "source": [
    "## Question 2: Give me only the following: name of artist, song (sorted by itemInSession) and user (first and last name)\\\n",
    "## for userid = 10, sessionid = 182\n",
    "\n",
    "answer2_query = \"select artist, song, firstname, lastname from song_playlist_session WHERE userid = 10 and sessionid = 182\"\n",
    "try:\n",
    "    rows = session.execute(answer2_query)\n",
    "except Exception as e:\n",
    "    print(e)\n",
    "    \n",
    "for row in rows:\n",
    "    print (\"Artist: \", row.artist,\"Song Title: \", row.song, \"FN: \", row.firstname,\"LN: \", row.lastname)\n",
    "                    "
   ]
  },
  {
   "cell_type": "markdown",
   "metadata": {},
   "source": [
    "#### Based on the result, four records have been returned.\n",
    "| Artust          | Song Title                                           | First Name| Last Name|\n",
    "| :---------------|:-----------------------------------------------------| :---------|:---------|\n",
    "|Down To The Bone | Keep On Keepin' On                                   | Sylvie    | Cruz     |\n",
    "|Three Drives     | Greece 2000                                          | Sylvie    | Cruz     |\n",
    "|Sebastien Tellier| Kilometer                                            | Sylvie    | Cruz     |\n",
    "|Lonnie Gordon    | Catch You Baby (Steve Pitron & Max Sanna Radio Edit) | Sylvie    | Cruz     |"
   ]
  },
  {
   "cell_type": "markdown",
   "metadata": {},
   "source": [
    "### Here comes to question 3:"
   ]
  },
  {
   "cell_type": "code",
   "execution_count": 18,
   "metadata": {},
   "outputs": [
    {
     "name": "stdout",
     "output_type": "stream",
     "text": [
      "Jacqueline Lynch\n",
      "Tegan Levine\n",
      "Sara Johnson\n"
     ]
    }
   ],
   "source": [
    "## Query 3: Give me every user name (first and last) in my music app history who listened to the song 'All Hands Against His Own'\n",
    "answer3_query = \"select firstname, lastname from user_info_songname WHERE song = 'All Hands Against His Own'\"\n",
    "try:\n",
    "    rows = session.execute(answer3_query)\n",
    "except Exception as e:\n",
    "    print(e)\n",
    "    \n",
    "for row in rows:\n",
    "    print (row.firstname, row.lastname)\n",
    "\n",
    "                    "
   ]
  },
  {
   "cell_type": "markdown",
   "metadata": {},
   "source": [
    "#### Based on the result, three records have been returned.\n",
    "| First Name| Last Name|\n",
    "| :---------|:---------|\n",
    "| Jacqueline| Lynch    |\n",
    "| Tegan     | Levine   |\n",
    "| Sara      | Johnson  |"
   ]
  },
  {
   "cell_type": "markdown",
   "metadata": {},
   "source": [
    "### Drop the tables before closing out the sessions"
   ]
  },
  {
   "cell_type": "code",
   "execution_count": 19,
   "metadata": {},
   "outputs": [],
   "source": [
    "song_info_session_drop = \"DROP TABLE IF EXISTS song_info_session\"\n",
    "song_playlist_drop = \"DROP TABLE IF EXISTS song_playlist_session\"\n",
    "user_info_songname_drop = \"DROP TABLE IF EXISTS user_info_songname\"\n",
    "drop_table_queries = [song_info_session_drop, song_playlist_drop, user_info_songname_drop]\n",
    "\n",
    "for query in drop_table_queries:\n",
    "    session.execute(query)"
   ]
  },
  {
   "cell_type": "markdown",
   "metadata": {},
   "source": [
    "### Close the session and cluster connection¶"
   ]
  },
  {
   "cell_type": "code",
   "execution_count": 20,
   "metadata": {},
   "outputs": [],
   "source": [
    "session.shutdown()\n",
    "cluster.shutdown()"
   ]
  },
  {
   "cell_type": "code",
   "execution_count": null,
   "metadata": {},
   "outputs": [],
   "source": []
  }
 ],
 "metadata": {
  "kernelspec": {
   "display_name": "Python 3",
   "language": "python",
   "name": "python3"
  },
  "language_info": {
   "codemirror_mode": {
    "name": "ipython",
    "version": 3
   },
   "file_extension": ".py",
   "mimetype": "text/x-python",
   "name": "python",
   "nbconvert_exporter": "python",
   "pygments_lexer": "ipython3",
   "version": "3.6.3"
  }
 },
 "nbformat": 4,
 "nbformat_minor": 2
}
